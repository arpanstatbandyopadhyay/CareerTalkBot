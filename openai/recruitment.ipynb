{
 "cells": [
  {
   "cell_type": "markdown",
   "metadata": {},
   "source": [
    "1. Read a pdf\n",
    "2. One agent  reads the PDF content and skill set\n",
    "3. Once agent reads the candidate details and match the jobs which suites with the candidate\n",
    "4. Another agent use tools to generate message ( uses three diferent tools to generate mails) and then pick the best one . then handoffs to another agent\n",
    "5. Another agent uses tools to write subject and convert it to HTML and sends mail to candidate. Handoff to another agent\n",
    "6. That agent will wait for candidate's reply and as soon as candidate reply , it will use tools to generate a mail for real Human HR and schedue an interview and also sends to candidate\n"
   ]
  },
  {
   "cell_type": "code",
   "execution_count": 3,
   "metadata": {},
   "outputs": [],
   "source": [
    "# import required libraries\n",
    "from openai import AsyncOpenAI\n",
    "from pypdf import PdfReader\n",
    "from dotenv import load_dotenv\n",
    "import os\n",
    "from agents import Agent, Runner,trace,OpenAIChatCompletionsModel,function_tool\n",
    "from sendgrid import SendGridAPIClient\n",
    "from sendgrid.helpers.mail import Mail, Email, To, Content\n"
   ]
  },
  {
   "cell_type": "code",
   "execution_count": 4,
   "metadata": {},
   "outputs": [
    {
     "data": {
      "text/plain": [
       "True"
      ]
     },
     "execution_count": 4,
     "metadata": {},
     "output_type": "execute_result"
    }
   ],
   "source": [
    "#load from .env file and override if any existing property \n",
    "load_dotenv(override=True)"
   ]
  },
  {
   "cell_type": "code",
   "execution_count": 5,
   "metadata": {},
   "outputs": [],
   "source": [
    "# Read from candidate resume\n",
    "reader = PdfReader(\"me/linkedin_arpan.pdf\")\n",
    "candidatedata = \"\"\n",
    "for page in reader.pages:\n",
    "    text = page.extract_text()\n",
    "    if text:\n",
    "        candidatedata += text"
   ]
  },
  {
   "cell_type": "code",
   "execution_count": 6,
   "metadata": {},
   "outputs": [
    {
     "data": {
      "text/plain": [
       "'\\xa0 \\xa0\\nContact\\narpan.bandyopadhyay.statist\\nics@gmail.com\\nwww.linkedin.com/in/arpan-\\nbandyopadhyay-bb5b1a54\\n(LinkedIn)\\ndev.to/arpanforgeek (Blog)\\nTop Skills\\nDeep Learning\\nLarge Language Models (LLM)\\nOLLAMA\\nLanguages\\nEnglish (Full Professional)\\nHindi (Limited Working)\\nbengali (Native or Bilingual)\\nCertifications\\nOCA(1ZO-808)\\nJavascript\\n1Z0-815 Oracle Java 11\\nProgrammer\\nMasterclass on API Development\\nusing Node.js \\nPost Graduate Program in Artificial\\nIntelligence and Machine Learning\\nARPAN BANDYOPADHYAY\\nPostgraduate in Artificial Intelligence and Machine Learning .\\n(Statistician & Data Science (AI/ML) aspirant.)\\nBengaluru, Karnataka, India\\nSummary\\nAt HCLSoftware, my journey as a Senior Software Engineer III is\\ncentered around integrating AI/ML capabilities into high-quality\\nJEE-based applications. With a deep understanding of machine\\nlearning algorithms, data analytics, and statistical modeling, I focus\\non developing intelligent solutions that enhance decision-making\\nprocesses, optimize performance, and drive innovation for the\\nbanking and financial services sector.\\nMy strong foundation in Computer Science from the prestigious\\nDream Institute of Technology empowers me to design and\\nimplement advanced AI/ML models, leveraging tools such as\\npredictive analytics, natural language processing, and data mining\\nto solve complex business problems. I am committed to ensuring\\nour applications not only meet but exceed client expectations by\\nembedding cutting-edge AI/ML techniques that enable scalable,\\ndata-driven solutions.\\nExperience\\nHCLSoftware\\nSenior Software Engineer III \\nApril 2023\\xa0-\\xa0Present\\xa0(2 years 3 months)\\nBangalore Urban, Karnataka, India\\nAccenture\\n3 years 6 months\\nApplication Development Team Lead\\nDecember 2021\\xa0-\\xa0April 2023\\xa0(1 year 5 months)\\nBangalore Urban, Karnataka, India\\nApplication Development Senior Analyst\\nNovember 2019\\xa0-\\xa0November 2021\\xa0(2 years 1 month)\\nBengaluru Area, India\\n\\xa0 Page 1 of 4\\xa0 \\xa0\\nCapgemini\\nConsultant\\nJuly 2018\\xa0-\\xa0November 2019\\xa0(1 year 5 months)\\nBangalore,India\\n\\uf0d8 Worked to implement new logics and also modify the older one to improve\\nthe product  \\nPerformance. \\n\\uf0d8        Designing of underlying architecture along with other members of the\\nteam and preparing the\\nbase code for the application.\\n\\uf0d8 Written stored procedures and views to fetch data from DB.\\n\\uf0d8 Done Code review and preparing daily basis report.\\n\\uf0d8 Involved in maintaining technical specifications.\\n\\uf0d8        Active participation in regular project status meetings, client calls and\\nalways acted as the\\nsole point of contact for all the functionalities developed by me.\\nCenturyLink India\\nSoftware Engineer\\nSeptember 2016\\xa0-\\xa0July 2018\\xa0(1 year 11 months)\\nBangalore\\n\\uf0d8 Worked to implement new logics and also modify the older one to improve\\nthe product  \\nPerformance. \\n\\uf0d8        Designing of underlying architecture along with other members of the\\nteam and preparing the\\nbase code for the application.\\n\\uf0d8 Written stored procedures and views to fetch data from DB.\\n\\uf0d8 Done Code review and preparing daily basis report.\\n\\uf0d8 Involved in maintaining technical specifications.\\n\\uf0d8        Active participation in regular project status meetings, client calls and\\nalways acted as the\\nsole point of contact for all the functionalities developed by me.\\nV2Soft\\n1 year 1 month\\nSoftware Engineer\\nSeptember 2015\\xa0-\\xa0September 2016\\xa0(1 year 1 month)\\nBangalore,India\\n\\xa0 Page 2 of 4\\xa0 \\xa0\\n\\uf0d8 Worked to implement new logics and also modify the older one to improve\\nthe product  \\nPerformance. \\n\\uf0d8        Designing of underlying architecture along with other members of the\\nteam and preparing the\\nbase code for the application.\\n\\uf0d8 Written stored procedures and views to fetch data from DB.\\n\\uf0d8 Done Code review and preparing daily basis report.\\n\\uf0d8 Involved in maintaining technical specifications.\\n\\uf0d8        Active participation in regular project status meetings, client calls and\\nalways acted as the\\nsole point of contact for all the functionalities developed by me.\\nSoftware Engineer\\nSeptember 2015\\xa0-\\xa0September 2016\\xa0(1 year 1 month)\\n\\uf0d8 Worked to implement new logics and also modify the older one to improve\\nthe product  \\nPerformance. \\n\\uf0d8        Designing of underlying architecture along with other members of the\\nteam and preparing the\\nbase code for the application.\\n\\uf0d8 Written stored procedures and views to fetch data from DB.\\n\\uf0d8 Done Code review and preparing daily basis report.\\n\\uf0d8 Involved in maintaining technical specifications.\\n\\uf0d8        Active participation in regular project status meetings, client calls and\\nalways acted as the\\nsole point of contact for all the functionalities developed by me.\\nSoftware Engineer\\nSeptember 2015\\xa0-\\xa0September 2016\\xa0(1 year 1 month)\\nBangaon Area, India\\nWorking in Shift Digital Project as a test engineer.Shift Digital is an automobile\\nproject. Since 2000, the Shift Digital team has built, deployed and managed\\neasy-to-use solutions focused on the retail distribution channel of our clients.\\nIt is a cutting edge digital marketing and technology providing innovative\\nbusiness solutions that power the most successful and cost-effective digital\\nprograms. Consumers interact with this brand site when they want to learn\\nmore about brand and cars. They go to retailers digital experiences when they\\nare in the final stages of the buying process. This site supporting transactional\\nsite programs that help better coordinate efforts with the brand, leading to\\nmeasurable and clear results. Before purchasing any car whatever one\\n\\xa0 Page 3 of 4\\xa0 \\xa0\\ncustomer want to do, they can do those through this site.i.e, Book test drive,\\nchecking the car details etc.\\nEducation\\nThe University of Texas at Austin\\nPostgraduate Degree,\\xa0Artificial Intelligence and Machine Learning\\xa0·\\xa0(January\\n2024\\xa0-\\xa0January 2025)\\nDream Institute of Technology 209\\nEngineer’s Degree,\\xa0Computer Science\\xa0·\\xa0(2008\\xa0-\\xa02013)\\nInoesis solution\\nJava Training and intranship,\\xa0Java\\xa0·\\xa0(2018\\xa0-\\xa02019)\\n\\xa0 Page 4 of 4'"
      ]
     },
     "execution_count": 6,
     "metadata": {},
     "output_type": "execute_result"
    }
   ],
   "source": [
    "candidatedata"
   ]
  },
  {
   "cell_type": "code",
   "execution_count": 7,
   "metadata": {},
   "outputs": [],
   "source": [
    "# Create a resume reader Agent\n",
    "resume_read_instruction= f\"You are a resume reader agent working for Autozenic. you are given the resume content {candidatedata} , \\\n",
    "your's responsibility is to read the whole resume content and understand it.\"\n",
    "\n",
    "# Create instance of Agent (Resume Reader)\n",
    "resume_reader_agent =  Agent (\n",
    "    name = \"Resume Reader\",\n",
    "    instructions = resume_read_instruction,\n",
    "    model =\"gpt-4o-mini\"\n",
    ")"
   ]
  },
  {
   "cell_type": "code",
   "execution_count": 8,
   "metadata": {},
   "outputs": [],
   "source": [
    "# Function to read resume by executing Resume Reader Agent\n",
    "async def read_resume():\n",
    "    input = \"Read the full resume and Get the core skill sets of the candidate.\"\n",
    "    skillset = await Runner.run(resume_reader_agent,input)\n",
    "    return skillset.final_output"
   ]
  },
  {
   "cell_type": "code",
   "execution_count": 10,
   "metadata": {},
   "outputs": [],
   "source": [
    "# List of available jobs in company - Autozenic\n",
    "job_list = [\n",
    "    {\n",
    "        \"title\": \"Machine Learning Engineer\",\n",
    "        \"department\": \"AI/ML\",\n",
    "        \"skills_required\": [\"Python\", \"TensorFlow\", \"Scikit-learn\", \"Data Science\", \"Model Deployment\"],\n",
    "        \"experience_required\": \"2+ years\"\n",
    "    },\n",
    "    {\n",
    "        \"title\": \"Data Analyst\",\n",
    "        \"department\": \"Analytics\",\n",
    "        \"skills_required\": [\"SQL\", \"Python\", \"Excel\", \"Tableau\", \"Data Visualization\"],\n",
    "        \"experience_required\": \"1+ years\"\n",
    "    },\n",
    "    {\n",
    "        \"title\": \"Frontend Developer\",\n",
    "        \"department\": \"Engineering\",\n",
    "        \"skills_required\": [\"JavaScript\", \"React\", \"CSS\", \"HTML\", \"REST APIs\"],\n",
    "        \"experience_required\": \"2+ years\"\n",
    "    },\n",
    "    {\n",
    "        \"title\": \"Backend Developer\",\n",
    "        \"department\": \"Engineering\",\n",
    "        \"skills_required\": [\"Python\", \"Django\", \"PostgreSQL\", \"APIs\", \"Docker\"],\n",
    "        \"experience_required\": \"3+ years\"\n",
    "    },\n",
    "    {\n",
    "        \"title\": \"DevOps Engineer\",\n",
    "        \"department\": \"Infrastructure\",\n",
    "        \"skills_required\": [\"AWS\", \"Docker\", \"Kubernetes\", \"CI/CD\", \"Terraform\"],\n",
    "        \"experience_required\": \"3+ years\"\n",
    "    },\n",
    "    {\n",
    "        \"title\": \"HR Generalist\",\n",
    "        \"department\": \"Human Resources\",\n",
    "        \"skills_required\": [\"Employee Relations\", \"Recruiting\", \"Compliance\", \"Onboarding\", \"HRIS\"],\n",
    "        \"experience_required\": \"2+ years\"\n",
    "    },\n",
    "    {\n",
    "        \"title\": \"Product Manager\",\n",
    "        \"department\": \"Product\",\n",
    "        \"skills_required\": [\"Roadmapping\", \"Agile\", \"Stakeholder Management\", \"Market Research\", \"Analytics\"],\n",
    "        \"experience_required\": \"4+ years\"\n",
    "    }\n",
    "]\n",
    "\n",
    "\n",
    "# Instruction for Job Alignment Agent to align relavent job for the candidate\n",
    "role_alignment_instruction = f\"You are a Job Matcher Agent working for Autozenic. You are provided with a list of available jobs: {job_list} , \\\n",
    "Your task is to carefully analyze the candidate’s skills, experience, and background, and select the most suitable single job from the list , \\\n",
    "Ensure your matches are relevant and well-justified.  \"\n",
    "\n",
    "# Create instance of ob Alignment Agent\n",
    "job_alignment_agent = Agent(\n",
    "    name=\"Job Alignment Agent\",\n",
    "    instructions=role_alignment_instruction,\n",
    "    model = \"gpt-4o-mini\"\n",
    ")"
   ]
  },
  {
   "cell_type": "code",
   "execution_count": 11,
   "metadata": {},
   "outputs": [],
   "source": [
    "# Function to align job for the candidate by executing job_alignment_agent\n",
    "async def align_jobs(skills:str):\n",
    "    input = f\" Based on the following skills: {skills}, identify the most suitable job for the candidate from the available list ,\\\n",
    "    Consider skill relevance, industry fit, and overall alignment with job requirements. Only suggest the best-matched role.\"\n",
    "    matching_jobs = await Runner.run(job_alignment_agent,input)\n",
    "    return matching_jobs.final_output"
   ]
  },
  {
   "cell_type": "code",
   "execution_count": 12,
   "metadata": {},
   "outputs": [],
   "source": [
    "#Instruction to write a professional email for the candidate with the matching job details \n",
    "email_writer_instruction = f\"\"\"\n",
    "You are an Email Writing Agent working at Autozenic.\n",
    "\n",
    "You are provided with the candidate's details: {candidatedata}.\n",
    "\n",
    "Your task is to draft a professional and engaging email to the candidate. The goal is to express interest in their profile and share a job opportunity that aligns with their background.\n",
    "\n",
    "The email should:\n",
    "- Be polite, clear, and professionally worded\n",
    "- Briefly highlight how the candidate's experience matches the role\n",
    "- Include the job description or a summary\n",
    "- Encourage the candidate to respond if interested.\n",
    "\"\"\"\n",
    "\n",
    "\n",
    "google_api_key=os.getenv('GOOGLE_API_KEY')\n",
    "gemini_client = AsyncOpenAI(base_url=\"https://generativelanguage.googleapis.com/v1beta/openai/\",api_key=google_api_key)\n",
    "\n",
    "gemini_model=OpenAIChatCompletionsModel(model=\"gemini-2.0-flash\", openai_client=gemini_client)\n",
    "\n",
    "# Create instance of Email Writer\n",
    "email_writter_agent = Agent(\n",
    "    name=\"Email Writer\",\n",
    "    instructions=email_writer_instruction,\n",
    "    model=gemini_model\n",
    ")\n",
    "\n",
    "# Converting agents to Tool\n",
    "email_writter_tool = email_writter_agent.as_tool(tool_name=\"Email_Writer\", tool_description=\"Generate an email\")"
   ]
  },
  {
   "cell_type": "code",
   "execution_count": 61,
   "metadata": {},
   "outputs": [],
   "source": [
    "# instruction for HR  agent to update HR about the selection of the resume of the candidate \n",
    "hr_update_instruction = f\"\"\"\n",
    "You are an HR Update Agent working for Autozenic.\n",
    "\n",
    "You are provided with the candidate's details: {candidatedata}.\n",
    "\n",
    "Your responsibility is to notify the human HR team that a job opportunity email has been successfully triggered and sent to the candidate.\n",
    "\n",
    "Your update should:\n",
    "- Be clear, professional, and concise\n",
    "- Include the candidate's name and relevant details if available\n",
    "- Mention the job role that was shared with the candidate\n",
    "- Confirm that the email has been sent\n",
    "- Optionally mention that the system will follow up automatically if no response is received\n",
    "- Be addressed to internal HR (not the candidate)\n",
    "\n",
    "Keep the tone business-professional and suitable for internal updates.\n",
    "\"\"\"\n",
    "\n",
    "# Create instance of HR Agent\n",
    "hr_update_agent = Agent(\n",
    "    name=\"HR Agent\",\n",
    "    instructions=hr_update_instruction,\n",
    "    model=\"gpt-4o-mini\"\n",
    ")\n",
    "\n",
    "# Convert HR agent to tool\n",
    "hr_update_tool = hr_update_agent.as_tool(tool_name=\"HR_Agent\",tool_description=\"Send mail to HR/Recruiter\")"
   ]
  },
  {
   "cell_type": "code",
   "execution_count": 51,
   "metadata": {},
   "outputs": [],
   "source": [
    "# Create a function to send email to the candidate and using @function_tool  registering it as a tool\n",
    "@function_tool\n",
    "def send_email(body: str):\n",
    "    print(\"calling send email\")\n",
    "    sg = SendGridAPIClient(api_key=os.environ.get('SENDGRID_API_KEY'))\n",
    "    from_email = Email(\"arpan1601@gmail.com\")\n",
    "    to_email = To(\"arpantestengineer@gmail.com\")\n",
    "    content = Content(\"text/html\", body)\n",
    "    mail = Mail(from_email, to_email, \"Job-oppurtunity\", content).get()\n",
    "    response = sg.client.mail.send.post(request_body=mail)\n",
    "    return {\"status\": \"success\"}\n"
   ]
  },
  {
   "cell_type": "code",
   "execution_count": 52,
   "metadata": {},
   "outputs": [],
   "source": [
    "# Combine all tools together as a list\n",
    "text_email_tools = [email_writter_tool,hr_update_tool]"
   ]
  },
  {
   "cell_type": "code",
   "execution_count": 16,
   "metadata": {},
   "outputs": [
    {
     "data": {
      "text/plain": [
       "[FunctionTool(name='Email_Writer', description='Generate an email', params_json_schema={'properties': {'input': {'title': 'Input', 'type': 'string'}}, 'required': ['input'], 'title': 'Email_Writer_args', 'type': 'object', 'additionalProperties': False}, on_invoke_tool=<function function_tool.<locals>._create_function_tool.<locals>._on_invoke_tool at 0x00000258627E6480>, strict_json_schema=True, is_enabled=True),\n",
       " FunctionTool(name='HR_Agent', description='Send mail to HR/Recruiter', params_json_schema={'properties': {'input': {'title': 'Input', 'type': 'string'}}, 'required': ['input'], 'title': 'HR_Agent_args', 'type': 'object', 'additionalProperties': False}, on_invoke_tool=<function function_tool.<locals>._create_function_tool.<locals>._on_invoke_tool at 0x00000258627E76A0>, strict_json_schema=True, is_enabled=True)]"
      ]
     },
     "execution_count": 16,
     "metadata": {},
     "output_type": "execute_result"
    }
   ],
   "source": [
    "text_email_tools"
   ]
  },
  {
   "cell_type": "code",
   "execution_count": 53,
   "metadata": {},
   "outputs": [],
   "source": [
    "# instruction to convert text email to HTML\n",
    "html_instructions = \"You can convert a text email body to an HTML email body. \\\n",
    "You are given a text email body which might have some markdown \\\n",
    "and you need to convert it to an HTML email body with simple, clear, compelling layout and design.\"\n",
    "\n",
    "# Create instance of HTML converter Agent\n",
    "html_converter_agent = Agent(\n",
    "    name=\"HTML converter Agent\",\n",
    "    instructions=html_instructions,\n",
    "    model=\"gpt-4o-mini\"\n",
    ")\n",
    "\n",
    "# Convert HTML converter Agent to tool\n",
    "html_converter_tool = html_converter_agent.as_tool(tool_name=\"HTML_converter_Agent\",tool_description=\"Convert text mail to HTML\")"
   ]
  },
  {
   "cell_type": "code",
   "execution_count": 54,
   "metadata": {},
   "outputs": [],
   "source": [
    "convert_and_send_email_tools = [html_converter_tool,send_email]"
   ]
  },
  {
   "cell_type": "code",
   "execution_count": 55,
   "metadata": {},
   "outputs": [],
   "source": [
    "# Instruction on how to use convert text email to html and send to the candidate\n",
    "email_manager_instruction = \"You are an email formatter and sender. You receive the body of an email to be sent. \\\n",
    "You  use the html_converter_tool to convert the body to HTML. \\\n",
    "After that finally, you use the send_email tool to send the email with the subject and HTML body.\"\n",
    "\n",
    "# Create instance of Email  Manager agent\n",
    "email_composition_agent = Agent(\n",
    "    name=\"Email Manager\",\n",
    "    instructions=email_manager_instruction,\n",
    "    model=\"gpt-4o-mini\",\n",
    "    tools=convert_and_send_email_tools,\n",
    "    handoff_description=\"Convert an email to HTML and send it\" #handoff_description helps other agents know when to delegate a task to this agent.\n",
    ")\n"
   ]
  },
  {
   "cell_type": "code",
   "execution_count": 56,
   "metadata": {},
   "outputs": [],
   "source": [
    "# instruction for Candidate Outreach Coordinator\n",
    "candidate_outreach_cooridinator_instruction = \"You are a Alice , working as a Candidate Outreach Coordinator for Autozenic. You use the tools given to you to generate  emails. \\\n",
    "You never generate email by yourself; you always use the tools. \\\n",
    "You generate email multiple times if you're not satisfied with the results from the first try .\\\n",
    "Finally , you handoff to the Email Manager agent to convert it to HTML and send it.\"\n",
    "\n",
    "# Create instance of Candidate Outreach Coordinator agent\n",
    "candidate_outreach_cooridinator_agent = Agent(\n",
    "    name = \"Candidate Outreach Coordinator\",\n",
    "    instructions=candidate_outreach_cooridinator_instruction,\n",
    "    tools=text_email_tools,\n",
    "    handoffs=[email_composition_agent],\n",
    "    model=\"gpt-4o-mini\"\n",
    ")"
   ]
  },
  {
   "cell_type": "code",
   "execution_count": 57,
   "metadata": {},
   "outputs": [],
   "source": [
    "# Function to execure candidate_outreach_cooridinator_agent\n",
    "async def candidate_coorination():\n",
    "    input = \"Send out a professional email addressed candidate and also send an update the HR Team regarding this.\"\n",
    "    result =await Runner.run(candidate_outreach_cooridinator_agent,input)\n",
    "    return result  "
   ]
  },
  {
   "cell_type": "code",
   "execution_count": 62,
   "metadata": {},
   "outputs": [],
   "source": [
    "# This function orchestrates the end-to-end candidate outreach workflow.\n",
    "# It performs the following steps:\n",
    "# 1. Reads and analyzes the candidate's resume to extract core skills.\n",
    "# 2. Matches the candidate to the most suitable job role based on those skills.\n",
    "# 3. Generates and sends a professional email to both the candidate and the HR team.\n",
    "# The function returns a confirmation message once all steps are successfully completed.\n",
    "async def process():\n",
    "    with trace(\"Recruiting service\"):\n",
    "        skills = await read_resume()\n",
    "        await align_jobs(skills)\n",
    "        await candidate_coorination()\n",
    "\n",
    "    return \"The Candidate has been contacted and the same has been updated to the HR team.\"\n"
   ]
  },
  {
   "cell_type": "code",
   "execution_count": 63,
   "metadata": {},
   "outputs": [],
   "source": [
    "# This asynchronous chat handler interprets user input and triggers the candidate outreach workflow.\n",
    "# If the message contains both \"check the resume\" and \"connect\", it calls the process() function,\n",
    "# which performs resume analysis, job alignment, and sends the outreach email.\n",
    "# Otherwise, it returns a predefined response indicating supported commands.\n",
    "async def chat(message, history):\n",
    "    user_input = message.strip().lower()\n",
    "    if \"check the resume\" in user_input and \"connect\" in user_input:\n",
    "        summary = await process()\n",
    "        return summary\n",
    "    else:\n",
    "        return \"I can only process commands like: 'check the resume and connect to the candidate'.\"\n"
   ]
  },
  {
   "cell_type": "code",
   "execution_count": 60,
   "metadata": {},
   "outputs": [
    {
     "name": "stdout",
     "output_type": "stream",
     "text": [
      "* Running on local URL:  http://127.0.0.1:7865\n",
      "* To create a public link, set `share=True` in `launch()`.\n"
     ]
    },
    {
     "data": {
      "text/html": [
       "<div><iframe src=\"http://127.0.0.1:7865/\" width=\"100%\" height=\"500\" allow=\"autoplay; camera; microphone; clipboard-read; clipboard-write;\" frameborder=\"0\" allowfullscreen></iframe></div>"
      ],
      "text/plain": [
       "<IPython.core.display.HTML object>"
      ]
     },
     "metadata": {},
     "output_type": "display_data"
    },
    {
     "data": {
      "text/plain": []
     },
     "execution_count": 60,
     "metadata": {},
     "output_type": "execute_result"
    },
    {
     "name": "stdout",
     "output_type": "stream",
     "text": [
      "calling send email\n",
      "calling send email\n",
      "calling send email\n",
      "calling send email\n"
     ]
    }
   ],
   "source": [
    "import gradio as gr\n",
    "gr.ChatInterface(chat, type=\"messages\").launch()"
   ]
  }
 ],
 "metadata": {
  "kernelspec": {
   "display_name": ".venv",
   "language": "python",
   "name": "python3"
  },
  "language_info": {
   "codemirror_mode": {
    "name": "ipython",
    "version": 3
   },
   "file_extension": ".py",
   "mimetype": "text/x-python",
   "name": "python",
   "nbconvert_exporter": "python",
   "pygments_lexer": "ipython3",
   "version": "3.12.6"
  }
 },
 "nbformat": 4,
 "nbformat_minor": 2
}
